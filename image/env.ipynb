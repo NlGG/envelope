{
 "cells": [
  {
   "cell_type": "code",
   "execution_count": null,
   "metadata": {
    "collapsed": true
   },
   "outputs": [],
   "source": [
    "from __future__ import division\n",
    "import math\n",
    "import functools  #for python3\n",
    "from random import uniform, normalvariate\n",
    "import matplotlib.pyplot as plt\n",
    "import numpy as np\n",
    "\n",
    "def envelop():\n",
    "    fig, ax = plt.subplots()\n",
    "    y = np.linspace(0, 100, 100)\n",
    "    colormap = ['b', 'g', 'r', 'c', 'm', 'y', 'k']\n",
    "    for k in range(1, 200, 1):\n",
    "        color = colormap[k % 6]\n",
    "        k = k / 10.0\n",
    "        c3 = (1/5*y-k**3)**3+(k**3)**3\n",
    "        c2 = 1/10*((1/5*y-k**3)**2-(k**3) **2)\n",
    "        c1 = 1/10*k**3*y\n",
    "        c0 = (k-3)**3 +5*(-1)**10*k + 27\n",
    "        plt.xlim(0, 50)\n",
    "        plt.ylim(0, 100)\n",
    "\n",
    "        ax.plot(y, (c3+c2+c1+c0), color='c', linewidth=1)\n",
    "\n",
    "    #c = 2 * math.sqrt(6) / 3 * y\n",
    "    #ax.plot(y, c, 'b-', linewidth=2, label='$k = ' + str(k) + '$')\n",
    "\n",
    "    #ax.legend()\n",
    "    \n",
    "    plt.show()\n",
    "\n",
    "\n",
    "envelop()"
   ]
  }
 ],
 "metadata": {
  "kernelspec": {
   "display_name": "Python 2",
   "language": "python",
   "name": "python2"
  },
  "language_info": {
   "codemirror_mode": {
    "name": "ipython",
    "version": 2
   },
   "file_extension": ".py",
   "mimetype": "text/x-python",
   "name": "python",
   "nbconvert_exporter": "python",
   "pygments_lexer": "ipython2",
   "version": "2.7.9"
  }
 },
 "nbformat": 4,
 "nbformat_minor": 0
}
